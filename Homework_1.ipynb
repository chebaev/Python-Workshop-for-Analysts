{
 "cells": [
  {
   "cell_type": "markdown",
   "id": "c040815b",
   "metadata": {},
   "source": [
    "## Task 1\n",
    "Оформляйте ноутбук, используя эти советы:\n",
    "## Номер задачи - заголовок 2\n",
    "### Номер подзадачи - заголовок 3\n",
    "Предоставленные наборы данных оформляйте, как код\n",
    "Рекомендации для преподавателей по оценке задания:\n",
    "Смотреть, чтобы студент красиво оформлял ноутбук, использовал ячейки с текстом, указывал номера заданий"
   ]
  },
  {
   "cell_type": "markdown",
   "id": "2161649f",
   "metadata": {},
   "source": [
    "## Task 2\n",
    "На складе лежат разные фрукты в разном количестве.\n",
    "Нужно написать функцию, которая на вход принимает любое количество названий фруктов и их количество, а возвращает общее количество фруктов на складе"
   ]
  },
  {
   "cell_type": "code",
   "execution_count": 24,
   "id": "90ec70c5",
   "metadata": {},
   "outputs": [
    {
     "name": "stdout",
     "output_type": "stream",
     "text": [
      "Общее количество фруктов на складе = 63\n"
     ]
    }
   ],
   "source": [
    "def total_number_of_fruits(**kwargs)->int:\n",
    "    return sum([value for value in kwargs.values()])\n",
    "        \n",
    "summa = total_number_of_fruits(apple=9, pear= 20, peach=30, orange=4)   \n",
    "print(f'Общее количество фруктов на складе = {summa}')"
   ]
  },
  {
   "cell_type": "markdown",
   "id": "23fa7954",
   "metadata": {},
   "source": [
    "## Task 3\n",
    "Дан список с затратами на рекламу. Но в данных есть ошибки, некоторые затраты имеют отрицательную величину. Удалите такие значения из списка и посчитайте суммарные затраты\n",
    "[100, 125, -90, 345, 655, -1, 0, 200]\n",
    "Используйте list comprehensions"
   ]
  },
  {
   "cell_type": "code",
   "execution_count": 6,
   "id": "05805ec6",
   "metadata": {
    "scrolled": false
   },
   "outputs": [
    {
     "name": "stdout",
     "output_type": "stream",
     "text": [
      "[100, 125, 0, 345, 655, 0, 0, 200]\n",
      "Сумарные затраты = 1425 руб.\n"
     ]
    }
   ],
   "source": [
    "def total_costs(c_price:list) -> int:\n",
    "    temp = [i if i > 0 else 0 for i in costs_price]\n",
    "    print(temp)\n",
    "    return sum(temp)\n",
    "\n",
    "costs_price = [100, 125, -90, 345, 655, -1, 0, 200]\n",
    "\n",
    "print(f'Сумарные затраты = {total_costs(costs_price)} руб.')"
   ]
  },
  {
   "cell_type": "markdown",
   "id": "6d061d84",
   "metadata": {},
   "source": [
    "## Task 4\n",
    "Даны два списка.\n",
    "Дата покупки\n",
    "['2021-09-14', '2021-12-15', '2021-09-08', '2021-12-05', '2021-10-09', '2021-09-30', '2021-12-22', '2021-11-29', '2021-12-24', '2021-11-26', '2021-10-27', '2021-12-18', '2021-11-09', '2021-11-23', '2021-09-27', '2021-10-02', '2021-12-27', '2021-09-20', '2021-12-13', '2021-11-01', '2021-11-09', '2021-12-06', '2021-12-08', '2021-10-09', '2021-10-31', '2021-09-30', '2021-11-09', '2021-12-13', '2021-10-26', '2021-12-09']\n",
    "Суммы покупок по датам\n",
    "[1270, 8413, 9028, 3703, 5739, 4095, 295, 4944, 5723, 3701, 4471, 651, 7037, 4274, 6275, 4988, 6930, 2971, 6592, 2004, 2822, 519, 3406, 2732, 5015, 2008, 316, 6333, 5700, 2887]\n"
   ]
  },
  {
   "cell_type": "code",
   "execution_count": 13,
   "id": "e612b3c0",
   "metadata": {},
   "outputs": [],
   "source": [
    "purchase_date = ['2021-09-14', '2021-12-15', '2021-09-08', '2021-12-05', '2021-10-09', '2021-09-30', '2021-12-22', '2021-11-29', '2021-12-24', '2021-11-26', '2021-10-27', '2021-12-18', '2021-11-09', '2021-11-23', '2021-09-27', '2021-10-02', '2021-12-27', '2021-09-20', '2021-12-13', '2021-11-01', '2021-11-09', '2021-12-06', '2021-12-08', '2021-10-09', '2021-10-31', '2021-09-30', '2021-11-09', '2021-12-13', '2021-10-26', '2021-12-09'] \n",
    "purchase_amounts = [1270, 8413, 9028, 3703, 5739, 4095, 295, 4944, 5723, 3701, 4471, 651, 7037, 4274, 6275, 4988, 6930, 2971, 6592, 2004, 2822, 519, 3406, 2732, 5015, 2008, 316, 6333, 5700, 2887]\n"
   ]
  },
  {
   "cell_type": "markdown",
   "id": "f8ba3b6e",
   "metadata": {},
   "source": [
    "### Условие 4.1:\n",
    "Найдите, какая выручка у компании в ноябре\n",
    "Используйте list comprehensions"
   ]
  },
  {
   "cell_type": "code",
   "execution_count": 10,
   "id": "e14418d9",
   "metadata": {},
   "outputs": [
    {
     "name": "stdout",
     "output_type": "stream",
     "text": [
      "Выручка в ноябре = 25098\n"
     ]
    }
   ],
   "source": [
    "def revenue(list1:list, list2:list, month:str) -> int:\n",
    "    return sum([value for key, value in zip(list1, list2) if key[5:7] == month])\n",
    "\n",
    "summ_revenue = revenue(purchase_date,purchase_amounts, '11')\n",
    "print(f'Выручка в ноябре = {summ_revenue}')\n"
   ]
  },
  {
   "cell_type": "markdown",
   "id": "631c2343",
   "metadata": {},
   "source": [
    "### Условие 4.2:\n",
    "Найдите выручку компании в зависимости от месяца\n",
    "Для этого напишите функцию, которая на вход принимает список с датами и список с выручкой, а на выходе словарь, где ключи - это месяцы, а значения - это выручка.\n",
    "Используйте аннотирование типов."
   ]
  },
  {
   "cell_type": "code",
   "execution_count": 19,
   "id": "bd974014",
   "metadata": {},
   "outputs": [
    {
     "name": "stdout",
     "output_type": "stream",
     "text": [
      "{'09': 25647, '12': 45452, '10': 28645, '11': 25098}\n"
     ]
    }
   ],
   "source": [
    "def company_revenue(list1:list, list2:list) -> dict:\n",
    "        month = dict()\n",
    "        for key, value in zip(list1, list2):\n",
    "            if month.get(key[5:7]):\n",
    "                month[key[5:7]] = month[key[5:7]] + value\n",
    "            else:\n",
    "                month[key[5:7]] = value\n",
    "        return month \n",
    "print(company_revenue(purchase_date, purchase_amounts))"
   ]
  },
  {
   "cell_type": "code",
   "execution_count": null,
   "id": "72613500",
   "metadata": {},
   "outputs": [],
   "source": []
  }
 ],
 "metadata": {
  "kernelspec": {
   "display_name": "Python 3.8.10 64-bit",
   "language": "python",
   "name": "python3"
  },
  "language_info": {
   "codemirror_mode": {
    "name": "ipython",
    "version": 3
   },
   "file_extension": ".py",
   "mimetype": "text/x-python",
   "name": "python",
   "nbconvert_exporter": "python",
   "pygments_lexer": "ipython3",
   "version": "3.8.10"
  },
  "vscode": {
   "interpreter": {
    "hash": "22e6e9e92d4fab808b435096b0fdd6b1e2f3be8b2d0c0bd3cb90f620a285f7b9"
   }
  }
 },
 "nbformat": 4,
 "nbformat_minor": 5
}
